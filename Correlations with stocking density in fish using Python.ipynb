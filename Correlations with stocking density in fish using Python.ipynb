{
 "cells": [
  {
   "cell_type": "code",
   "execution_count": 102,
   "id": "2580a116",
   "metadata": {},
   "outputs": [],
   "source": [
    "#Importing the packages\n",
    "\n",
    "import pandas as pd\n",
    "import numpy as np\n",
    "import seaborn as sns\n",
    "\n",
    "import matplotlib.pyplot as plt\n",
    "import matplotlib.mlab as mlab\n",
    "import matplotlib\n",
    "plt.style.use('ggplot')\n",
    "from matplotlib.pyplot import figure\n",
    "\n",
    "%matplotlib inline\n",
    "matplotlib.rcParams['figure.figsize'] = (12,8)\n",
    "\n",
    "pd.options.mode.chained_assignment = None\n",
    "\n"
   ]
  },
  {
   "cell_type": "code",
   "execution_count": 5,
   "id": "2831dba2",
   "metadata": {},
   "outputs": [],
   "source": [
    "#Reading the data\n",
    "\n",
    "df = pd.read_csv(r'C:\\Users\\Nelmara\\Documents\\PORTIFOLIO NEL\\MESTRADO NEL\\Density.csv')"
   ]
  },
  {
   "cell_type": "code",
   "execution_count": 6,
   "id": "5b9f4aa6",
   "metadata": {},
   "outputs": [
    {
     "data": {
      "text/html": [
       "<div>\n",
       "<style scoped>\n",
       "    .dataframe tbody tr th:only-of-type {\n",
       "        vertical-align: middle;\n",
       "    }\n",
       "\n",
       "    .dataframe tbody tr th {\n",
       "        vertical-align: top;\n",
       "    }\n",
       "\n",
       "    .dataframe thead th {\n",
       "        text-align: right;\n",
       "    }\n",
       "</style>\n",
       "<table border=\"1\" class=\"dataframe\">\n",
       "  <thead>\n",
       "    <tr style=\"text-align: right;\">\n",
       "      <th></th>\n",
       "      <th>Stocking Density</th>\n",
       "      <th>Survival Rate</th>\n",
       "      <th>Mortality Rate</th>\n",
       "      <th>Canibalism</th>\n",
       "      <th>Specific Growth Rate</th>\n",
       "      <th>Final Total Length</th>\n",
       "      <th>Final Weight</th>\n",
       "    </tr>\n",
       "  </thead>\n",
       "  <tbody>\n",
       "    <tr>\n",
       "      <th>0</th>\n",
       "      <td>60</td>\n",
       "      <td>97,70%</td>\n",
       "      <td>0,70%</td>\n",
       "      <td>1,40%</td>\n",
       "      <td>11,80%</td>\n",
       "      <td>24,10</td>\n",
       "      <td>0,10</td>\n",
       "    </tr>\n",
       "    <tr>\n",
       "      <th>1</th>\n",
       "      <td>120</td>\n",
       "      <td>95,20%</td>\n",
       "      <td>2,20%</td>\n",
       "      <td>2,50%</td>\n",
       "      <td>11,50%</td>\n",
       "      <td>24,40</td>\n",
       "      <td>0,10</td>\n",
       "    </tr>\n",
       "    <tr>\n",
       "      <th>2</th>\n",
       "      <td>180</td>\n",
       "      <td>97,60%</td>\n",
       "      <td>1,40%</td>\n",
       "      <td>0,80%</td>\n",
       "      <td>11,50%</td>\n",
       "      <td>23,80</td>\n",
       "      <td>0,10</td>\n",
       "    </tr>\n",
       "    <tr>\n",
       "      <th>3</th>\n",
       "      <td>240</td>\n",
       "      <td>97,20%</td>\n",
       "      <td>1,70%</td>\n",
       "      <td>1,00%</td>\n",
       "      <td>11,10%</td>\n",
       "      <td>23,30</td>\n",
       "      <td>0,10</td>\n",
       "    </tr>\n",
       "    <tr>\n",
       "      <th>4</th>\n",
       "      <td>300</td>\n",
       "      <td>95,70%</td>\n",
       "      <td>1,60%</td>\n",
       "      <td>3,10%</td>\n",
       "      <td>11,60%</td>\n",
       "      <td>23,90</td>\n",
       "      <td>0,10</td>\n",
       "    </tr>\n",
       "  </tbody>\n",
       "</table>\n",
       "</div>"
      ],
      "text/plain": [
       "   Stocking Density Survival Rate Mortality Rate Canibalism  \\\n",
       "0                60        97,70%          0,70%      1,40%   \n",
       "1               120        95,20%          2,20%      2,50%   \n",
       "2               180        97,60%          1,40%      0,80%   \n",
       "3               240        97,20%          1,70%      1,00%   \n",
       "4               300        95,70%          1,60%      3,10%   \n",
       "\n",
       "  Specific Growth Rate Final Total Length Final Weight  \n",
       "0               11,80%              24,10         0,10  \n",
       "1               11,50%              24,40         0,10  \n",
       "2               11,50%              23,80         0,10  \n",
       "3               11,10%              23,30         0,10  \n",
       "4               11,60%              23,90         0,10  "
      ]
     },
     "execution_count": 6,
     "metadata": {},
     "output_type": "execute_result"
    }
   ],
   "source": [
    "#Looking the data\n",
    "\n",
    "df"
   ]
  },
  {
   "cell_type": "code",
   "execution_count": 7,
   "id": "282bf7ea",
   "metadata": {},
   "outputs": [
    {
     "name": "stdout",
     "output_type": "stream",
     "text": [
      "Stocking Density - 0%\n",
      "Survival Rate - 0%\n",
      "Mortality Rate - 0%\n",
      "Canibalism - 0%\n",
      "Specific Growth Rate - 0%\n",
      "Final Total Length - 0%\n",
      "Final Weight - 0%\n"
     ]
    }
   ],
   "source": [
    "#Searching for null or missing values\n",
    "\n",
    "for col in df.columns:\n",
    "    pct_missing = np.mean(df[col].isnull())\n",
    "    print('{} - {}%'.format(col, round(pct_missing*100)))"
   ]
  },
  {
   "cell_type": "code",
   "execution_count": 8,
   "id": "ecdc2130",
   "metadata": {},
   "outputs": [
    {
     "name": "stdout",
     "output_type": "stream",
     "text": [
      "Stocking Density         int64\n",
      "Survival Rate           object\n",
      "Mortality Rate          object\n",
      "Canibalism              object\n",
      "Specific Growth Rate    object\n",
      "Final Total Length      object\n",
      "Final Weight            object\n",
      "dtype: object\n"
     ]
    }
   ],
   "source": [
    "#Checking data types in columns\n",
    "\n",
    "print(df.dtypes)"
   ]
  },
  {
   "cell_type": "code",
   "execution_count": 81,
   "id": "489a67c3",
   "metadata": {},
   "outputs": [
    {
     "name": "stdout",
     "output_type": "stream",
     "text": [
      "Stocking Density         int64\n",
      "Survival Rate           object\n",
      "Mortality Rate          object\n",
      "Canibalism              object\n",
      "Specific Growth Rate    object\n",
      "Final Total Length      object\n",
      "Final Weight            object\n",
      "dtype: object\n"
     ]
    }
   ],
   "source": [
    "#Correcting the data type in colums\n",
    "\n",
    "df.replace('%',' ', regex=True, inplace=True)\n",
    "df.replace(',','.', regex=True, inplace=True)\n",
    "#df.replace('%',' ', inplace=True)\n",
    "print(df.dtypes)\n",
    "#df.replace('%',' ', regex=True)\n",
    "#df['Mortality Rate'].str.replace('%','')\n",
    "#df['Canibalism'].str.replace('%','')\n",
    "#df['Specific Growth Rate'].str.replace('%','')\n"
   ]
  },
  {
   "cell_type": "code",
   "execution_count": 131,
   "id": "b7898348",
   "metadata": {
    "scrolled": true
   },
   "outputs": [],
   "source": [
    "#Changing the data type of columns\n",
    "\n",
    "cols = ['Survival Rate','Mortality Rate','Canibalism','Specific Growth Rate','Final Total Length','Final Weight']\n",
    "df[cols] = df[cols].apply(pd.to_numeric, errors='coerce', axis=1)\n"
   ]
  },
  {
   "cell_type": "code",
   "execution_count": 137,
   "id": "08e807de",
   "metadata": {},
   "outputs": [
    {
     "name": "stdout",
     "output_type": "stream",
     "text": [
      "Stocking Density          int64\n",
      "Survival Rate           float64\n",
      "Mortality Rate          float64\n",
      "Canibalism              float64\n",
      "Specific Growth Rate    float64\n",
      "Final Total Length      float64\n",
      "Final Weight            float64\n",
      "dtype: object\n"
     ]
    }
   ],
   "source": [
    "print(df.dtypes)"
   ]
  },
  {
   "cell_type": "code",
   "execution_count": 138,
   "id": "f4f55f9b",
   "metadata": {},
   "outputs": [
    {
     "data": {
      "text/html": [
       "<div>\n",
       "<style scoped>\n",
       "    .dataframe tbody tr th:only-of-type {\n",
       "        vertical-align: middle;\n",
       "    }\n",
       "\n",
       "    .dataframe tbody tr th {\n",
       "        vertical-align: top;\n",
       "    }\n",
       "\n",
       "    .dataframe thead th {\n",
       "        text-align: right;\n",
       "    }\n",
       "</style>\n",
       "<table border=\"1\" class=\"dataframe\">\n",
       "  <thead>\n",
       "    <tr style=\"text-align: right;\">\n",
       "      <th></th>\n",
       "      <th>Stocking Density</th>\n",
       "      <th>Survival Rate</th>\n",
       "      <th>Mortality Rate</th>\n",
       "      <th>Canibalism</th>\n",
       "      <th>Specific Growth Rate</th>\n",
       "      <th>Final Total Length</th>\n",
       "      <th>Final Weight</th>\n",
       "    </tr>\n",
       "  </thead>\n",
       "  <tbody>\n",
       "    <tr>\n",
       "      <th>Stocking Density</th>\n",
       "      <td>1.000000</td>\n",
       "      <td>-2.745140e-01</td>\n",
       "      <td>0.377168</td>\n",
       "      <td>0.301473</td>\n",
       "      <td>-4.961389e-01</td>\n",
       "      <td>-0.583874</td>\n",
       "      <td>NaN</td>\n",
       "    </tr>\n",
       "    <tr>\n",
       "      <th>Survival Rate</th>\n",
       "      <td>-0.274514</td>\n",
       "      <td>1.000000e+00</td>\n",
       "      <td>-0.771756</td>\n",
       "      <td>-0.882904</td>\n",
       "      <td>2.362643e-16</td>\n",
       "      <td>-0.502216</td>\n",
       "      <td>NaN</td>\n",
       "    </tr>\n",
       "    <tr>\n",
       "      <th>Mortality Rate</th>\n",
       "      <td>0.377168</td>\n",
       "      <td>-7.717561e-01</td>\n",
       "      <td>1.000000</td>\n",
       "      <td>0.406948</td>\n",
       "      <td>-5.577850e-01</td>\n",
       "      <td>0.090346</td>\n",
       "      <td>NaN</td>\n",
       "    </tr>\n",
       "    <tr>\n",
       "      <th>Canibalism</th>\n",
       "      <td>0.301473</td>\n",
       "      <td>-8.829044e-01</td>\n",
       "      <td>0.406948</td>\n",
       "      <td>1.000000</td>\n",
       "      <td>3.247302e-01</td>\n",
       "      <td>0.524979</td>\n",
       "      <td>NaN</td>\n",
       "    </tr>\n",
       "    <tr>\n",
       "      <th>Specific Growth Rate</th>\n",
       "      <td>-0.496139</td>\n",
       "      <td>2.362643e-16</td>\n",
       "      <td>-0.557785</td>\n",
       "      <td>0.324730</td>\n",
       "      <td>1.000000e+00</td>\n",
       "      <td>0.724207</td>\n",
       "      <td>NaN</td>\n",
       "    </tr>\n",
       "    <tr>\n",
       "      <th>Final Total Length</th>\n",
       "      <td>-0.583874</td>\n",
       "      <td>-5.022159e-01</td>\n",
       "      <td>0.090346</td>\n",
       "      <td>0.524979</td>\n",
       "      <td>7.242068e-01</td>\n",
       "      <td>1.000000</td>\n",
       "      <td>NaN</td>\n",
       "    </tr>\n",
       "    <tr>\n",
       "      <th>Final Weight</th>\n",
       "      <td>NaN</td>\n",
       "      <td>NaN</td>\n",
       "      <td>NaN</td>\n",
       "      <td>NaN</td>\n",
       "      <td>NaN</td>\n",
       "      <td>NaN</td>\n",
       "      <td>NaN</td>\n",
       "    </tr>\n",
       "  </tbody>\n",
       "</table>\n",
       "</div>"
      ],
      "text/plain": [
       "                      Stocking Density  Survival Rate  Mortality Rate  \\\n",
       "Stocking Density              1.000000  -2.745140e-01        0.377168   \n",
       "Survival Rate                -0.274514   1.000000e+00       -0.771756   \n",
       "Mortality Rate                0.377168  -7.717561e-01        1.000000   \n",
       "Canibalism                    0.301473  -8.829044e-01        0.406948   \n",
       "Specific Growth Rate         -0.496139   2.362643e-16       -0.557785   \n",
       "Final Total Length           -0.583874  -5.022159e-01        0.090346   \n",
       "Final Weight                       NaN            NaN             NaN   \n",
       "\n",
       "                      Canibalism  Specific Growth Rate  Final Total Length  \\\n",
       "Stocking Density        0.301473         -4.961389e-01           -0.583874   \n",
       "Survival Rate          -0.882904          2.362643e-16           -0.502216   \n",
       "Mortality Rate          0.406948         -5.577850e-01            0.090346   \n",
       "Canibalism              1.000000          3.247302e-01            0.524979   \n",
       "Specific Growth Rate    0.324730          1.000000e+00            0.724207   \n",
       "Final Total Length      0.524979          7.242068e-01            1.000000   \n",
       "Final Weight                 NaN                   NaN                 NaN   \n",
       "\n",
       "                      Final Weight  \n",
       "Stocking Density               NaN  \n",
       "Survival Rate                  NaN  \n",
       "Mortality Rate                 NaN  \n",
       "Canibalism                     NaN  \n",
       "Specific Growth Rate           NaN  \n",
       "Final Total Length             NaN  \n",
       "Final Weight                   NaN  "
      ]
     },
     "execution_count": 138,
     "metadata": {},
     "output_type": "execute_result"
    }
   ],
   "source": [
    "# Correlation Matrix between all numeric columns\n",
    "\n",
    "df.corr(method ='pearson')"
   ]
  },
  {
   "cell_type": "code",
   "execution_count": 141,
   "id": "7b67254e",
   "metadata": {},
   "outputs": [
    {
     "data": {
      "image/png": "[encoded data removed]",
      "text/plain": [
       "<Figure size 864x576 with 2 Axes>"
      ]
     },
     "metadata": {
      "needs_background": "light"
     },
     "output_type": "display_data"
    }
   ],
   "source": [
    "correlation_matrix = df.corr()\n",
    "\n",
    "sns.heatmap(correlation_matrix, annot = True)\n",
    "\n",
    "plt.title(\"Correlation matrix for Stocking Density in fish\")\n",
    "\n",
    "plt.xlabel(\"Variables analyzed\")\n",
    "\n",
    "plt.ylabel(\"Variables analyzed\")\n",
    "\n",
    "plt.show()"
   ]
  },
  {
   "cell_type": "code",
   "execution_count": 174,
   "id": "72252a26",
   "metadata": {},
   "outputs": [
    {
     "name": "stdout",
     "output_type": "stream",
     "text": [
      "Stocking Density      Stocking Density        1.000000e+00\n",
      "                      Survival Rate          -2.745140e-01\n",
      "                      Mortality Rate          3.771683e-01\n",
      "                      Canibalism              3.014734e-01\n",
      "                      Specific Growth Rate   -4.961389e-01\n",
      "                      Final Total Length     -5.838742e-01\n",
      "                      Final Weight                     NaN\n",
      "Survival Rate         Stocking Density       -2.745140e-01\n",
      "                      Survival Rate           1.000000e+00\n",
      "                      Mortality Rate         -7.717561e-01\n",
      "                      Canibalism             -8.829044e-01\n",
      "                      Specific Growth Rate    2.362643e-16\n",
      "                      Final Total Length     -5.022159e-01\n",
      "                      Final Weight                     NaN\n",
      "Mortality Rate        Stocking Density        3.771683e-01\n",
      "                      Survival Rate          -7.717561e-01\n",
      "                      Mortality Rate          1.000000e+00\n",
      "                      Canibalism              4.069485e-01\n",
      "                      Specific Growth Rate   -5.577850e-01\n",
      "                      Final Total Length      9.034618e-02\n",
      "                      Final Weight                     NaN\n",
      "Canibalism            Stocking Density        3.014734e-01\n",
      "                      Survival Rate          -8.829044e-01\n",
      "                      Mortality Rate          4.069485e-01\n",
      "                      Canibalism              1.000000e+00\n",
      "                      Specific Growth Rate    3.247302e-01\n",
      "                      Final Total Length      5.249795e-01\n",
      "                      Final Weight                     NaN\n",
      "Specific Growth Rate  Stocking Density       -4.961389e-01\n",
      "                      Survival Rate           2.362643e-16\n",
      "                      Mortality Rate         -5.577850e-01\n",
      "                      Canibalism              3.247302e-01\n",
      "                      Specific Growth Rate    1.000000e+00\n",
      "                      Final Total Length      7.242068e-01\n",
      "                      Final Weight                     NaN\n",
      "Final Total Length    Stocking Density       -5.838742e-01\n",
      "                      Survival Rate          -5.022159e-01\n",
      "                      Mortality Rate          9.034618e-02\n",
      "                      Canibalism              5.249795e-01\n",
      "                      Specific Growth Rate    7.242068e-01\n",
      "                      Final Total Length      1.000000e+00\n",
      "                      Final Weight                     NaN\n",
      "Final Weight          Stocking Density                 NaN\n",
      "                      Survival Rate                    NaN\n",
      "                      Mortality Rate                   NaN\n",
      "                      Canibalism                       NaN\n",
      "                      Specific Growth Rate             NaN\n",
      "                      Final Total Length               NaN\n",
      "                      Final Weight                     NaN\n",
      "dtype: float64\n"
     ]
    }
   ],
   "source": [
    "df.corr(method ='pearson')\n",
    "correlation_matrix = df.corr()\n",
    "correlation_pairs = correlation_matrix.unstack()\n",
    "\n",
    "print(correlation_pairs)"
   ]
  },
  {
   "cell_type": "code",
   "execution_count": 175,
   "id": "7dabcdcf",
   "metadata": {},
   "outputs": [
    {
     "name": "stdout",
     "output_type": "stream",
     "text": [
      "Survival Rate         Canibalism             -8.829044e-01\n",
      "Canibalism            Survival Rate          -8.829044e-01\n",
      "Survival Rate         Mortality Rate         -7.717561e-01\n",
      "Mortality Rate        Survival Rate          -7.717561e-01\n",
      "Final Total Length    Stocking Density       -5.838742e-01\n",
      "Stocking Density      Final Total Length     -5.838742e-01\n",
      "Mortality Rate        Specific Growth Rate   -5.577850e-01\n",
      "Specific Growth Rate  Mortality Rate         -5.577850e-01\n",
      "Survival Rate         Final Total Length     -5.022159e-01\n",
      "Final Total Length    Survival Rate          -5.022159e-01\n",
      "Specific Growth Rate  Stocking Density       -4.961389e-01\n",
      "Stocking Density      Specific Growth Rate   -4.961389e-01\n",
      "                      Survival Rate          -2.745140e-01\n",
      "Survival Rate         Stocking Density       -2.745140e-01\n",
      "Specific Growth Rate  Survival Rate           2.362643e-16\n",
      "Survival Rate         Specific Growth Rate    2.362643e-16\n",
      "Mortality Rate        Final Total Length      9.034618e-02\n",
      "Final Total Length    Mortality Rate          9.034618e-02\n",
      "Canibalism            Stocking Density        3.014734e-01\n",
      "Stocking Density      Canibalism              3.014734e-01\n",
      "Canibalism            Specific Growth Rate    3.247302e-01\n",
      "Specific Growth Rate  Canibalism              3.247302e-01\n",
      "Mortality Rate        Stocking Density        3.771683e-01\n",
      "Stocking Density      Mortality Rate          3.771683e-01\n",
      "Mortality Rate        Canibalism              4.069485e-01\n",
      "Canibalism            Mortality Rate          4.069485e-01\n",
      "                      Final Total Length      5.249795e-01\n",
      "Final Total Length    Canibalism              5.249795e-01\n",
      "                      Specific Growth Rate    7.242068e-01\n",
      "Specific Growth Rate  Final Total Length      7.242068e-01\n",
      "Stocking Density      Stocking Density        1.000000e+00\n",
      "Canibalism            Canibalism              1.000000e+00\n",
      "Mortality Rate        Mortality Rate          1.000000e+00\n",
      "Survival Rate         Survival Rate           1.000000e+00\n",
      "Specific Growth Rate  Specific Growth Rate    1.000000e+00\n",
      "Final Total Length    Final Total Length      1.000000e+00\n",
      "Stocking Density      Final Weight                     NaN\n",
      "Survival Rate         Final Weight                     NaN\n",
      "Mortality Rate        Final Weight                     NaN\n",
      "Canibalism            Final Weight                     NaN\n",
      "Specific Growth Rate  Final Weight                     NaN\n",
      "Final Total Length    Final Weight                     NaN\n",
      "Final Weight          Stocking Density                 NaN\n",
      "                      Survival Rate                    NaN\n",
      "                      Mortality Rate                   NaN\n",
      "                      Canibalism                       NaN\n",
      "                      Specific Growth Rate             NaN\n",
      "                      Final Total Length               NaN\n",
      "                      Final Weight                     NaN\n",
      "dtype: float64\n"
     ]
    }
   ],
   "source": [
    "#Taking a look at the ones that have a high correlation (> 0.5)\n",
    "\n",
    "sorted_pairs =correlation_pairs.sort_values(kind=\"quicksort\")\n",
    "\n",
    "print(sorted_pairs)\n",
    "\n"
   ]
  },
  {
   "cell_type": "code",
   "execution_count": 176,
   "id": "5098afcf",
   "metadata": {},
   "outputs": [
    {
     "name": "stdout",
     "output_type": "stream",
     "text": [
      "Survival Rate         Canibalism             -0.882904\n",
      "Canibalism            Survival Rate          -0.882904\n",
      "Survival Rate         Mortality Rate         -0.771756\n",
      "Mortality Rate        Survival Rate          -0.771756\n",
      "Final Total Length    Stocking Density       -0.583874\n",
      "Stocking Density      Final Total Length     -0.583874\n",
      "Mortality Rate        Specific Growth Rate   -0.557785\n",
      "Specific Growth Rate  Mortality Rate         -0.557785\n",
      "Survival Rate         Final Total Length     -0.502216\n",
      "Final Total Length    Survival Rate          -0.502216\n",
      "Canibalism            Final Total Length      0.524979\n",
      "Final Total Length    Canibalism              0.524979\n",
      "                      Specific Growth Rate    0.724207\n",
      "Specific Growth Rate  Final Total Length      0.724207\n",
      "Stocking Density      Stocking Density        1.000000\n",
      "Canibalism            Canibalism              1.000000\n",
      "Mortality Rate        Mortality Rate          1.000000\n",
      "Survival Rate         Survival Rate           1.000000\n",
      "Specific Growth Rate  Specific Growth Rate    1.000000\n",
      "Final Total Length    Final Total Length      1.000000\n",
      "dtype: float64\n"
     ]
    }
   ],
   "source": [
    "strong_pairs = sorted_pairs[abs(sorted_pairs) > 0.5]\n",
    "\n",
    "print(strong_pairs)"
   ]
  },
  {
   "cell_type": "code",
   "execution_count": 142,
   "id": "a33bb0af",
   "metadata": {},
   "outputs": [
    {
     "data": {
      "text/html": [
       "<div>\n",
       "<style scoped>\n",
       "    .dataframe tbody tr th:only-of-type {\n",
       "        vertical-align: middle;\n",
       "    }\n",
       "\n",
       "    .dataframe tbody tr th {\n",
       "        vertical-align: top;\n",
       "    }\n",
       "\n",
       "    .dataframe thead th {\n",
       "        text-align: right;\n",
       "    }\n",
       "</style>\n",
       "<table border=\"1\" class=\"dataframe\">\n",
       "  <thead>\n",
       "    <tr style=\"text-align: right;\">\n",
       "      <th></th>\n",
       "      <th>Stocking Density</th>\n",
       "      <th>Survival Rate</th>\n",
       "      <th>Mortality Rate</th>\n",
       "      <th>Canibalism</th>\n",
       "      <th>Specific Growth Rate</th>\n",
       "      <th>Final Total Length</th>\n",
       "      <th>Final Weight</th>\n",
       "    </tr>\n",
       "  </thead>\n",
       "  <tbody>\n",
       "    <tr>\n",
       "      <th>Stocking Density</th>\n",
       "      <td>1.000000</td>\n",
       "      <td>1.000000</td>\n",
       "      <td>1.000000</td>\n",
       "      <td>1.000000</td>\n",
       "      <td>0.970725</td>\n",
       "      <td>1.000000</td>\n",
       "      <td>NaN</td>\n",
       "    </tr>\n",
       "    <tr>\n",
       "      <th>Survival Rate</th>\n",
       "      <td>1.000000</td>\n",
       "      <td>1.000000</td>\n",
       "      <td>1.000000</td>\n",
       "      <td>1.000000</td>\n",
       "      <td>0.970725</td>\n",
       "      <td>1.000000</td>\n",
       "      <td>NaN</td>\n",
       "    </tr>\n",
       "    <tr>\n",
       "      <th>Mortality Rate</th>\n",
       "      <td>1.000000</td>\n",
       "      <td>1.000000</td>\n",
       "      <td>1.000000</td>\n",
       "      <td>1.000000</td>\n",
       "      <td>0.970725</td>\n",
       "      <td>1.000000</td>\n",
       "      <td>NaN</td>\n",
       "    </tr>\n",
       "    <tr>\n",
       "      <th>Canibalism</th>\n",
       "      <td>1.000000</td>\n",
       "      <td>1.000000</td>\n",
       "      <td>1.000000</td>\n",
       "      <td>1.000000</td>\n",
       "      <td>0.970725</td>\n",
       "      <td>1.000000</td>\n",
       "      <td>NaN</td>\n",
       "    </tr>\n",
       "    <tr>\n",
       "      <th>Specific Growth Rate</th>\n",
       "      <td>0.970725</td>\n",
       "      <td>0.970725</td>\n",
       "      <td>0.970725</td>\n",
       "      <td>0.970725</td>\n",
       "      <td>1.000000</td>\n",
       "      <td>0.970725</td>\n",
       "      <td>NaN</td>\n",
       "    </tr>\n",
       "    <tr>\n",
       "      <th>Final Total Length</th>\n",
       "      <td>1.000000</td>\n",
       "      <td>1.000000</td>\n",
       "      <td>1.000000</td>\n",
       "      <td>1.000000</td>\n",
       "      <td>0.970725</td>\n",
       "      <td>1.000000</td>\n",
       "      <td>NaN</td>\n",
       "    </tr>\n",
       "    <tr>\n",
       "      <th>Final Weight</th>\n",
       "      <td>NaN</td>\n",
       "      <td>NaN</td>\n",
       "      <td>NaN</td>\n",
       "      <td>NaN</td>\n",
       "      <td>NaN</td>\n",
       "      <td>NaN</td>\n",
       "      <td>NaN</td>\n",
       "    </tr>\n",
       "  </tbody>\n",
       "</table>\n",
       "</div>"
      ],
      "text/plain": [
       "                      Stocking Density  Survival Rate  Mortality Rate  \\\n",
       "Stocking Density              1.000000       1.000000        1.000000   \n",
       "Survival Rate                 1.000000       1.000000        1.000000   \n",
       "Mortality Rate                1.000000       1.000000        1.000000   \n",
       "Canibalism                    1.000000       1.000000        1.000000   \n",
       "Specific Growth Rate          0.970725       0.970725        0.970725   \n",
       "Final Total Length            1.000000       1.000000        1.000000   \n",
       "Final Weight                       NaN            NaN             NaN   \n",
       "\n",
       "                      Canibalism  Specific Growth Rate  Final Total Length  \\\n",
       "Stocking Density        1.000000              0.970725            1.000000   \n",
       "Survival Rate           1.000000              0.970725            1.000000   \n",
       "Mortality Rate          1.000000              0.970725            1.000000   \n",
       "Canibalism              1.000000              0.970725            1.000000   \n",
       "Specific Growth Rate    0.970725              1.000000            0.970725   \n",
       "Final Total Length      1.000000              0.970725            1.000000   \n",
       "Final Weight                 NaN                   NaN                 NaN   \n",
       "\n",
       "                      Final Weight  \n",
       "Stocking Density               NaN  \n",
       "Survival Rate                  NaN  \n",
       "Mortality Rate                 NaN  \n",
       "Canibalism                     NaN  \n",
       "Specific Growth Rate           NaN  \n",
       "Final Total Length             NaN  \n",
       "Final Weight                   NaN  "
      ]
     },
     "execution_count": 142,
     "metadata": {},
     "output_type": "execute_result"
    }
   ],
   "source": [
    "# Using factorize - this assigns a random numeric value for each unique categorical value\n",
    "\n",
    "\n",
    "df.apply(lambda x: x.factorize()[0]).corr(method='pearson')"
   ]
  },
  {
   "cell_type": "code",
   "execution_count": 143,
   "id": "c25ebce6",
   "metadata": {},
   "outputs": [
    {
     "data": {
      "image/png": "[encoded data removed]",
      "text/plain": [
       "<Figure size 864x576 with 2 Axes>"
      ]
     },
     "metadata": {
      "needs_background": "light"
     },
     "output_type": "display_data"
    }
   ],
   "source": [
    "correlation_matrix = df.apply(lambda x: x.factorize()[0]).corr(method='pearson')\n",
    "sns.heatmap(correlation_matrix, annot = True)\n",
    "\n",
    "plt.title(\"Correlation matrix for Stocking Density in fish\")\n",
    "\n",
    "plt.xlabel(\"Variables analyzed\")\n",
    "\n",
    "plt.ylabel(\"Variables analyzed\")\n",
    "\n",
    "plt.show()\n"
   ]
  },
  {
   "cell_type": "code",
   "execution_count": 150,
   "id": "90dee936",
   "metadata": {},
   "outputs": [
    {
     "name": "stdout",
     "output_type": "stream",
     "text": [
      "Stocking Density      Stocking Density        1.000000\n",
      "                      Survival Rate           1.000000\n",
      "                      Mortality Rate          1.000000\n",
      "                      Canibalism              1.000000\n",
      "                      Specific Growth Rate    0.970725\n",
      "                      Final Total Length      1.000000\n",
      "                      Final Weight                 NaN\n",
      "Survival Rate         Stocking Density        1.000000\n",
      "                      Survival Rate           1.000000\n",
      "                      Mortality Rate          1.000000\n",
      "                      Canibalism              1.000000\n",
      "                      Specific Growth Rate    0.970725\n",
      "                      Final Total Length      1.000000\n",
      "                      Final Weight                 NaN\n",
      "Mortality Rate        Stocking Density        1.000000\n",
      "                      Survival Rate           1.000000\n",
      "                      Mortality Rate          1.000000\n",
      "                      Canibalism              1.000000\n",
      "                      Specific Growth Rate    0.970725\n",
      "                      Final Total Length      1.000000\n",
      "                      Final Weight                 NaN\n",
      "Canibalism            Stocking Density        1.000000\n",
      "                      Survival Rate           1.000000\n",
      "                      Mortality Rate          1.000000\n",
      "                      Canibalism              1.000000\n",
      "                      Specific Growth Rate    0.970725\n",
      "                      Final Total Length      1.000000\n",
      "                      Final Weight                 NaN\n",
      "Specific Growth Rate  Stocking Density        0.970725\n",
      "                      Survival Rate           0.970725\n",
      "                      Mortality Rate          0.970725\n",
      "                      Canibalism              0.970725\n",
      "                      Specific Growth Rate    1.000000\n",
      "                      Final Total Length      0.970725\n",
      "                      Final Weight                 NaN\n",
      "Final Total Length    Stocking Density        1.000000\n",
      "                      Survival Rate           1.000000\n",
      "                      Mortality Rate          1.000000\n",
      "                      Canibalism              1.000000\n",
      "                      Specific Growth Rate    0.970725\n",
      "                      Final Total Length      1.000000\n",
      "                      Final Weight                 NaN\n",
      "Final Weight          Stocking Density             NaN\n",
      "                      Survival Rate                NaN\n",
      "                      Mortality Rate               NaN\n",
      "                      Canibalism                   NaN\n",
      "                      Specific Growth Rate         NaN\n",
      "                      Final Total Length           NaN\n",
      "                      Final Weight                 NaN\n",
      "dtype: float64\n"
     ]
    }
   ],
   "source": [
    "correlation_mat = df.apply(lambda x: x.factorize()[0]).corr()\n",
    "\n",
    "corr_pairs = correlation_mat.unstack()\n",
    "\n",
    "print(corr_pairs)"
   ]
  },
  {
   "cell_type": "code",
   "execution_count": 151,
   "id": "54e617a5",
   "metadata": {},
   "outputs": [
    {
     "name": "stdout",
     "output_type": "stream",
     "text": [
      "Specific Growth Rate  Mortality Rate          0.970725\n",
      "Mortality Rate        Specific Growth Rate    0.970725\n",
      "Canibalism            Specific Growth Rate    0.970725\n",
      "Stocking Density      Specific Growth Rate    0.970725\n",
      "Specific Growth Rate  Final Total Length      0.970725\n",
      "                      Stocking Density        0.970725\n",
      "                      Canibalism              0.970725\n",
      "Final Total Length    Specific Growth Rate    0.970725\n",
      "Survival Rate         Specific Growth Rate    0.970725\n",
      "Specific Growth Rate  Survival Rate           0.970725\n",
      "Canibalism            Canibalism              1.000000\n",
      "                      Final Total Length      1.000000\n",
      "Stocking Density      Stocking Density        1.000000\n",
      "Final Total Length    Stocking Density        1.000000\n",
      "                      Survival Rate           1.000000\n",
      "                      Mortality Rate          1.000000\n",
      "                      Canibalism              1.000000\n",
      "Specific Growth Rate  Specific Growth Rate    1.000000\n",
      "Canibalism            Mortality Rate          1.000000\n",
      "Mortality Rate        Final Total Length      1.000000\n",
      "Canibalism            Stocking Density        1.000000\n",
      "Mortality Rate        Canibalism              1.000000\n",
      "                      Mortality Rate          1.000000\n",
      "                      Survival Rate           1.000000\n",
      "                      Stocking Density        1.000000\n",
      "Survival Rate         Final Total Length      1.000000\n",
      "                      Canibalism              1.000000\n",
      "                      Mortality Rate          1.000000\n",
      "                      Survival Rate           1.000000\n",
      "                      Stocking Density        1.000000\n",
      "Stocking Density      Final Total Length      1.000000\n",
      "                      Canibalism              1.000000\n",
      "                      Mortality Rate          1.000000\n",
      "                      Survival Rate           1.000000\n",
      "Canibalism            Survival Rate           1.000000\n",
      "Final Total Length    Final Total Length      1.000000\n",
      "Stocking Density      Final Weight                 NaN\n",
      "Survival Rate         Final Weight                 NaN\n",
      "Mortality Rate        Final Weight                 NaN\n",
      "Canibalism            Final Weight                 NaN\n",
      "Specific Growth Rate  Final Weight                 NaN\n",
      "Final Total Length    Final Weight                 NaN\n",
      "Final Weight          Stocking Density             NaN\n",
      "                      Survival Rate                NaN\n",
      "                      Mortality Rate               NaN\n",
      "                      Canibalism                   NaN\n",
      "                      Specific Growth Rate         NaN\n",
      "                      Final Total Length           NaN\n",
      "                      Final Weight                 NaN\n",
      "dtype: float64\n"
     ]
    }
   ],
   "source": [
    "sorted_pairs = corr_pairs.sort_values(kind=\"quicksort\")\n",
    "\n",
    "print(sorted_pairs)"
   ]
  },
  {
   "cell_type": "code",
   "execution_count": 178,
   "id": "98a9729c",
   "metadata": {},
   "outputs": [
    {
     "data": {
      "text/plain": [
       "Stocking Density\n",
       "60     97.7\n",
       "180    97.6\n",
       "240    97.2\n",
       "Name: Survival Rate, dtype: float64"
      ]
     },
     "execution_count": 178,
     "metadata": {},
     "output_type": "execute_result"
    }
   ],
   "source": [
    "# Looking at the top 3 stocking densities by Survival Rate\n",
    "\n",
    "SurvivalRateSum = df.groupby('Stocking Density')[[\"Survival Rate\"]].sum()\n",
    "\n",
    "SurvivalRateSumSorted = SurvivalRateSum.sort_values('Survival Rate', ascending = False)[:3]\n",
    "\n",
    "SurvivalRateSumSorted =SurvivalRateSumSorted['Survival Rate'].astype('float') \n",
    "\n",
    "SurvivalRateSumSorted\n",
    "\n",
    "\n",
    "\n"
   ]
  },
  {
   "cell_type": "code",
   "execution_count": 219,
   "id": "4d4ac32c",
   "metadata": {},
   "outputs": [
    {
     "data": {
      "text/plain": [
       "<AxesSubplot:xlabel='Stocking Density', ylabel='Survival Rate'>"
      ]
     },
     "execution_count": 219,
     "metadata": {},
     "output_type": "execute_result"
    },
    {
     "data": {
      "image/png": "[encoded data removed]",
      "text/plain": [
       "<Figure size 864x576 with 1 Axes>"
      ]
     },
     "metadata": {
      "needs_background": "light"
     },
     "output_type": "display_data"
    }
   ],
   "source": [
    "sns.swarmplot(x='Stocking Density', y='Survival Rate', data = df)\n"
   ]
  },
  {
   "cell_type": "code",
   "execution_count": 200,
   "id": "5d45d2c3",
   "metadata": {},
   "outputs": [
    {
     "data": {
      "image/png": "[encoded data removed]",
      "text/plain": [
       "<Figure size 864x576 with 1 Axes>"
      ]
     },
     "metadata": {
      "needs_background": "light"
     },
     "output_type": "display_data"
    }
   ],
   "source": [
    "import matplotlib.pyplot as plt\n",
    "plt.plot(\"Stocking Density\", \"Specific Growth Rate\", data = df)\n",
    "plt.title('Stocking Density vs Specific Growth Rate')\n",
    "plt.xlabel('Stocking Density')\n",
    "plt.ylabel('Specific Growth Rate')\n",
    "plt.show()"
   ]
  },
  {
   "cell_type": "code",
   "execution_count": 213,
   "id": "77afe688",
   "metadata": {},
   "outputs": [],
   "source": [
    "\n"
   ]
  }
 ],
 "metadata": {
  "kernelspec": {
   "display_name": "Python 3 (ipykernel)",
   "language": "python",
   "name": "python3"
  },
  "language_info": {
   "codemirror_mode": {
    "name": "ipython",
    "version": 3
   },
   "file_extension": ".py",
   "mimetype": "text/x-python",
   "name": "python",
   "nbconvert_exporter": "python",
   "pygments_lexer": "ipython3",
   "version": "3.9.7"
  }
 },
 "nbformat": 4,
 "nbformat_minor": 5
}
